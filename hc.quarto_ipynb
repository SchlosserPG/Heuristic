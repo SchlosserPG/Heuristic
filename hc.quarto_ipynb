{
  "cells": [
    {
      "cell_type": "markdown",
      "metadata": {},
      "source": [
        "---\n",
        "title: \"Hill Climbing\"\n",
        "author: \"Pamela Schlosser\"\n",
        "format: html\n",
        "runtime: python\n",
        "---\n",
        "\n",
        "\n",
        "# Hill Climbing (HC)\n",
        "* If life is like hill climbing, what’s the moment where you took a single small step that ended up leading you to your biggest peak?\n",
        "\n",
        "\n",
        "-   Hill Climbing is an optimization algorithm that starts with an arbitrary solution to a problem and iteratively makes small changes to the solution, choosing the change that improves the solution the most.\n",
        "-   Characteristics\n",
        "    -   Greedy Approach: It selects the most promising neighboring solution based on the heuristic, or it uses a search strategy that is to accept only a better solution as the next solution.\n",
        "    -   Local Search: Only considers the local neighborhood of the current solution. This implies that if there are local optima located between the initial solution and the optimal solution, HC may get stuck at a local optimum.\n",
        "    -   Termination: Ends when no further improvements can be made.\n",
        "-   Applications: Used in various fields like AI for game playing, pathfinding, and scheduling problems.\n",
        "\n",
        "## Search Strategy of HC \\>\n",
        "\n",
        "-   The search strategy of HC that accepts only a better solution as the next solution.\n",
        "-   Suppose HC has a 50/50 chance to move either left or right in solving the one-max problem; then, in addition to the global optimum (1111), HC may end up in one of the seven or three local optima. $f(v)>f(s)$.\n",
        "\n",
        "![hc search](Pictures/hc.png \"Hill Climbing Search Strategy\")\n",
        "\n",
        "## Search Strategy of HC \\>=\n",
        "\n",
        "-   The search strategy of HC accepts both better solutions and solutions that are equally good as the next solution.\n",
        "-   The possible result if HC accepts not only a better solution but also a solution that is equally good (i.e., $f(v)>=f(s)$ as the next solution; then only the solutions $x_4$ $(0011)$, $x_8$ $(0111)$, and $x_12$ $(1011)$ will remain as the local optima, while $x_16$ $(1111)$ is the global optimum.\n",
        "\n",
        "![hc search](Pictures/hc2.png \"Hill Climbing Search Strategy\")\n",
        "\n",
        "## Hill Climbing Algorithm\n",
        "\n",
        "-   Start: Initialize with a random solution or a predefined starting point.\n",
        "-   Evaluate: Assess the quality of the current solution using a heuristic function.\n",
        "-   Generate Neighbors: Produce a set of neighboring solutions by making small changes.\n",
        "-   Select Best Neighbor: Choose the neighbor that has the highest heuristic value.\n",
        "-   Move: Replace the current solution with the selected neighbor.\n",
        "-   Repeat: Continue the process until no better neighbors are found or a stopping criterion is met.\n",
        "\n",
        "![hc algo](Pictures/hc3.png \"Hill Climbing Algorithm\")\n",
        "\n",
        "## Challenges of HC\n",
        "\n",
        "-   Local Maximum: Hill climbing may get stuck at a local maximum, where no neighboring solution improves, but better solutions exist further away.\n",
        "\n",
        "-   Plateaus: It can struggle on flat regions where no clear direction of improvement is evident.\n",
        "\n",
        "-   Ridges: Difficulties in navigating narrow ridges that require moving sideways to find a better peak.\n",
        "\n",
        "-   Variations to Overcome Limitations\n",
        "\n",
        "    -   Stochastic Hill Climbing: Introduces randomness to avoid local maxima.\n",
        "    -   Simulated Annealing: Uses probabilistic decisions to escape local maxima and explore a larger solution space.\n",
        "    -   Steepest-Ascent Hill Climbing: Considers all neighbors and selects the one with the steepest ascent.\n",
        "\n",
        "# Program for One Max Implementation\n",
        "\n",
        "-   Import necessary tools: time for timing and matplotlib for plotting results.\n"
      ],
      "id": "6b484ad1"
    },
    {
      "cell_type": "code",
      "metadata": {},
      "source": [
        "import numpy as np\n",
        "import time\n",
        "import matplotlib.pyplot as plt"
      ],
      "id": "263b2e9b",
      "execution_count": null,
      "outputs": []
    },
    {
      "cell_type": "markdown",
      "metadata": {},
      "source": [
        "-   Set num_bits equal to a number (10) in this case.\n"
      ],
      "id": "c1279ae2"
    },
    {
      "cell_type": "code",
      "metadata": {},
      "source": [
        "num_bits = 10  # You can adjust the number of bits"
      ],
      "id": "ab1d9ff2",
      "execution_count": null,
      "outputs": []
    },
    {
      "cell_type": "markdown",
      "metadata": {},
      "source": [
        "## Set up Run Function\n",
        "\n",
        "-   Evaluate the initial solution by counting the number of 1s, which serves as the \"fitness\" value.\n",
        "-   Search for Neighbors: Generate neighboring solutions by flipping one bit at a time in the current solution. For each neighbor, calculate its fitness (number of 1s in its binary representation).\n",
        "-   Select Best Neighbor: Identify the neighboring solution with the highest fitness.If this neighbor's fitness is better than the current solution’s fitness, update the current solution to this neighbor.\n",
        "-   Repeat Until Convergence: Continue generating and evaluating neighbors until no neighboring solution improves the current fitness (local maximum reached).Track the fitness of the best solution at each iteration for plotting or analysis.\n",
        "-   Return Best Solution and Fitness Progress: Output the best solution found along with a list of fitness values over iterations.\n"
      ],
      "id": "bff69506"
    },
    {
      "cell_type": "code",
      "metadata": {},
      "source": [
        "# Run function for hill climbing\n",
        "def run_hc(num_bits=10, max_evals=2 ** num_bits):\n",
        "    sol = init_hc(num_bits)  # Initialize random solution\n",
        "    fitness = evaluate(sol)  # Evaluate the initial solution\n",
        "    fitness_over_time = []\n",
        "    \n",
        "    eval_count = 0\n",
        "\n",
        "    # Main loop of evaluations\n",
        "    while eval_count < max_evals:\n",
        "        tmp_sol = transit(sol)  # Make a random change (flip a bit)\n",
        "        tmp_fitness = evaluate(tmp_sol)  # Evaluate the new solution\n",
        "        sol, fitness = determine(tmp_sol, tmp_fitness, sol, fitness)  # Determine if we accept the new solution\n",
        "        \n",
        "        fitness_over_time.append(fitness)  # Track the fitness over time\n",
        "        eval_count += 1\n",
        "        \n",
        "    return fitness_over_time, sol"
      ],
      "id": "9a19978a",
      "execution_count": null,
      "outputs": []
    },
    {
      "cell_type": "markdown",
      "metadata": {},
      "source": [
        "## Helper Functions:\n",
        "\n",
        "-   Initiate: Set Initial Solution: Randomly choose an initial binary solution of the specified bit length (num_bits).\n"
      ],
      "id": "2b8977fb"
    },
    {
      "cell_type": "code",
      "metadata": {},
      "source": [
        "# Function for initialization (I)\n",
        "def init_hc(num_bits):\n",
        "    return np.random.randint(2, size=num_bits, dtype=int)"
      ],
      "id": "b1f6de63",
      "execution_count": null,
      "outputs": []
    },
    {
      "cell_type": "markdown",
      "metadata": {},
      "source": [
        "-   Transit (Generate Neighbors): Create a function that generates all neighbors of a binary solution by flipping each bit one by one.\n"
      ],
      "id": "27721466"
    },
    {
      "cell_type": "code",
      "metadata": {},
      "source": [
        "# Function for transit: (T) \n",
        "# Flipping a random bit in the solution\n",
        "def transit(sol):\n",
        "    new_sol = sol.copy()\n",
        "    flip_index = np.random.randint(len(sol))\n",
        "    new_sol[flip_index] = 1 - new_sol[flip_index]  # Flip the bit (0 to 1, or 1 to 0)\n",
        "    return new_sol"
      ],
      "id": "b60a06e6",
      "execution_count": null,
      "outputs": []
    },
    {
      "cell_type": "markdown",
      "metadata": {},
      "source": [
        "-   Evaluate: Count the number of 1s in the binary representation of a solution (fitness value).\n"
      ],
      "id": "3ec7e37e"
    },
    {
      "cell_type": "code",
      "metadata": {},
      "source": [
        "# Function for evaluation: (E) \n",
        "# Sum the number of 1s (OneMax problem)\n",
        "def evaluate(sol):\n",
        "    return np.sum(sol)"
      ],
      "id": "b9851d5f",
      "execution_count": null,
      "outputs": []
    },
    {
      "cell_type": "markdown",
      "metadata": {},
      "source": [
        "-   Determine: Track and update the current best solution and its fitness as the search progresses.\n"
      ],
      "id": "183215a7"
    },
    {
      "cell_type": "code",
      "metadata": {},
      "source": [
        "# Function for determine: (D) \n",
        "# Decide whether to accept the new solution\n",
        "def determine(tmp_sol, tmp_fitness, sol, fitness):\n",
        "    if tmp_fitness > fitness:\n",
        "        return tmp_sol, tmp_fitness  # Accept the new solution\n",
        "    return sol, fitness  # Keep the current solution"
      ],
      "id": "c77c04e6",
      "execution_count": null,
      "outputs": []
    },
    {
      "cell_type": "markdown",
      "metadata": {},
      "source": [
        "-   The main execution section initiates the hill climbing algorithm, recording the time taken to execute it. It captures the progression of fitness values over each iteration and identifies the best solution found, while calculating the total execution time.\n"
      ],
      "id": "8375d85b"
    },
    {
      "cell_type": "code",
      "metadata": {},
      "source": [
        "# Main Execution\n",
        "# Run hill climbing and get fitness values\n",
        "start_time = time.time()\n",
        "fitness_over_time, best_solution = run_hc(num_bits)\n",
        "end_time = time.time()\n",
        "execution_time = end_time - start_time  # Calculate elapsed time"
      ],
      "id": "3d698314",
      "execution_count": null,
      "outputs": []
    },
    {
      "cell_type": "markdown",
      "metadata": {},
      "source": [
        "-   The output section displays key details about the hill climbing algorithm, including its name, the number of bits used, and the time taken for execution. It then visualizes the fitness evolution across evaluations, providing a clear plot that shows how fitness values change over time as the algorithm progresses toward the best solution.\n"
      ],
      "id": "d697ac92"
    },
    {
      "cell_type": "code",
      "metadata": {},
      "source": [
        "# Output and visualize\n",
        "print(f\"# Name of the search algorithm: Hill Climbing\")\n",
        "print(f\"# number of bits: {num_bits}\")\n",
        "print(f\"Time elapsed: {execution_time:.6f} seconds\")  # Print the elapsed time\n",
        "\n",
        "# Plot the evolution of fitness over time\n",
        "plt.figure(figsize=(10, 6))\n",
        "plt.plot(fitness_over_time, label='Fitness over time', color='blue', linewidth=2)\n",
        "plt.title(f'Hill Climbing: Fitness Evolution ({num_bits} bits)')\n",
        "plt.xlabel('Evaluations')\n",
        "plt.ylabel('Fitness (Number of 1s)')\n",
        "plt.grid(True)\n",
        "plt.legend()\n",
        "plt.show()"
      ],
      "id": "dfb8d96f",
      "execution_count": null,
      "outputs": []
    },
    {
      "cell_type": "markdown",
      "metadata": {},
      "source": [
        "-   In the chart above, the fitness score, which measures the number of 1s in a 10-bit solution, is shown over a series of evaluations. Initially, the fitness rapidly increases, suggesting that the hill climbing algorithm quickly finds improvements in the solution. Once it reaches the maximum fitness of 10, it stabilizes and remains flat, indicating that the algorithm has found an optimal solution and no further improvements are being made.\n",
        "\n",
        "## Comparison of ES and HC for the one-max Problem of size $n=10$\n",
        "\n",
        "-   HC-LR and HC-Rand to denote a similar thing. HC-Rand and HC-LR differ primarily in how they choose the next solution and handle exploration, impacting their likelihood of getting stuck in local optima.\n",
        "-   HC-LR (Hill Climbing with Limited Range): HC-LR’s transition operator restricts it to move only to adjacent solutions, which makes it less flexible. The solution v of HC-LR will be the one that is one smaller or one larger than the current solution s (i.e., $v=s−1$ or $v=s+1$). As described in the example, if HC-LR starts with the solution \"1000,\" it can only move to \"0111\" or \"1001.\" If neither of these options provides an improvement, HC-LR is likely to get stuck there, leading to a local optimum. Because HC-LR only accepts moves that improve the solution, it has a high risk of getting trapped in suboptimal points without exploring further.\n",
        "-   HC-Rand (Hill Climbing with Randomization): HC-Rand randomly selects a part of the current solution to invert, allowing it to explore a broader range of possible next solutions. This random approach reduces the chance of getting stuck in a local optimum since the algorithm has the flexibility to try different options, even if they are not immediately better. HC-Rand’s randomness increases the probability of escaping local optima, thus improving the chances of finding a global optimum.\n",
        "    -   The solution v of HC-Rand will be created by inverting a randomly chosen subsolution of s (i.e., “1” becomes “0” and “0” becomes “1”). The transition operator in the HC-Rand (Hill Climbing with Randomization) algorithm randomly selects a part (subsolution) of the current solution and inverts the chosen bit(s). For a \"one-max problem\" of a specific size (where the goal is to maximize the number of 1s in the solution), inverting different bits can produce several possible next solutions.\n",
        "    -   In the example given, there are four possible new solutions because there are four different bits that could be inverted from the current solution. If inverting one bit doesn’t improve the objective value (e.g., the number of 1s), HC-Rand will consider other options, allowing it to avoid getting stuck in local optima. This random inversion helps HC-Rand explore other solutions, increasing the chances of finding the global maximum (an optimal solution with the highest number of 1s).\n",
        "-   In both cases, only a better solution will be accepted as the next solution $v$.\n",
        "\n",
        "![hc search](Pictures/hcRand.png \"Comparing Simulation Results\")\n",
        "\n",
        "# Search strategy\n",
        "\n",
        "-   The Search Strategy of HC-Rand when Starting from the Candidate Solution $x_9$\n",
        "-   HC-LR will then move to either $x_8$ $(0111)$ or $x_9$ $(1001)$ in this case and eventually get stuck there.\n",
        "-   HC-Rand has a chance to find the global optimum $x_16$ because the next possible solutions of $x_13$ $(1100)$ will be $x_5$ $(0100)$, $x_9$ $(1000)$, $x_15$ $(1110)$, and $x_14$ $(1101)$.\n",
        "\n",
        "![hc search](Pictures/hc4.png \"Simulation Results\")\n",
        "\n",
        "-   Simulation Results of HC for a Deceptive Problem of size $n=4$\n",
        "\n",
        "-   The results show that ES is able to find the optimal solution quickly, because only 16 checks (evaluations) are needed, for there are in total 16 candidate solutions in this case.\n",
        "\n",
        "-   The results also show that HC-LR is unable to find the optimal solution sometimes when applying it to an optimization problem that has one or more local optima, even if the trap is not that complex. ![hc search](Pictures/hc5.png \"Simulation Results\")\n",
        "\n",
        "-   Simulation Results of HC for a Deceptive Problem of size $n=10$\n",
        "\n",
        "-   The number of evaluations ES requires to find the optimal solution increases significantly. In this case, ES is unable to find the optimal solution within 1000 evaluations.\n",
        "\n",
        "-   It is reasonable to expect that ES will take 1024 evaluations to find the optimal solution because it has to check all possible candidate solutions, and with $n=10$ there are exactly $2^n=2^10=1024$ possible candidate solutions.\n",
        "\n",
        "-   These results show that both HC-based algorithms are able to find a better result than ES at the early stage of the convergence process. \\* This implies that HC provides an alternative way to find an approximate solution for large and complex optimization problems.\n",
        "\n",
        "![hc search](Pictures/hc6.png \"Simulation Results\")\n",
        "\n",
        "-   The Search Strategy of ES for the BSD-2 Problem of size $n = 4$\n",
        "-   Assuming that the starting point is the solution $x_5$ $(0100)$. The next solution will then be $x_13$, $x_1$, $x_7$, or $x_6$. This implies that HC-Rand has a good chance to move to a solution in the region $x_6-x_16$.\n",
        "-   The probability of moving to the left region $x_1-x_4$ or the right region $x_6-x_16$ depends somehow on the location of the current solution.\n",
        "-   A move to the right region is a guarantee to find the optimal solution, and a move to the left region is destined to a local optimum in this case.\n",
        "\n",
        "![hc search](Pictures/hc7.png \"Simulation Results\")\n",
        "\n",
        "-   The Search Strategy of HC-LR for the BSD-2 Problem of size $n=4$\n",
        "-   The search strategy of HC-LR makes it possible to either get stuck at the local optimum $x_1$ or find the global optimum $x_16$, depending on the starting point.\n",
        "-   If the starting point is in the range $x_1-x_4$, HC-LR will certainly end up getting stuck at the local optimum $x_1$.\n",
        "-   If the starting point is in the range $x_6-x_16$, HC-LR will surely end up finding the optimal solution.\n",
        "-   If HC-LR starts with the solution $x_5$, it has a 50/50 chance to get stuck at the local optimum or to find the global optimum.\n",
        "-   The probability for HC-LR to get stuck at the local optimum $x_1$ is 4/16 + .5/16 = 4.5/16. 4/16 represents the probability of reaching $x_1$ directly from other states or due to the structure of the search space. 0.5/16: This small additional probability could represent an edge case, such as when the algorithm gets \"trapped\" in $x_1$ due to a random restart condition or slight chance of stopping early.\n",
        "-   The probability for it to find the global optimum $x_16$ is 11/16 + .5/16 =11.5/16. 11/16 represents the probability of reaching $x_16$, potentially due to the structure of the search space and favorable transitions, while 0.5/16 could be an additional small probability for reaching $x_16$ due to a random factor, such as a random restart helping the algorithm reach the global optimum.\n",
        "\n",
        "![hc search](Pictures/hc8.png \"Simulation Results\")\n",
        "\n",
        "-   The Search Strategy of HC-Rand for a Deceptive Problem of size $n=4$.\n",
        "-   Assuming that the starting point is the solution $x_5$ $(0100)$. The next solution will then be $x_13$, $x_1$, $x_7$, or $x_6$.\n",
        "-   This implies that HC-Rand has a good chance to move to a solution in the region $x_6-x_16$. The probability of moving to the left region $x_1-x_4$ or the right region $x_6-x_16$ depends somehow on the location of the current solution. A move to the right region is a guarantee to find the optimal solution, and a move to the left region is destined to a local optimum in this case.\n",
        "\n",
        "![hc search](Pictures/hc9.png \"Simulation Results\")\n",
        "\n",
        "## Deciphering Probability of Switching\n",
        "\n",
        "-   The landscape of the “solution space” or “search space” of an optimization problem seen by a search can be different when:\n",
        "\n",
        "    -   different ways are used to represent the solutions or\n",
        "    -   different ways are used to generate new candidate solutions from current solutions.\n",
        "\n",
        "-   The solution space that a search algorithm sees can also be called the “search space.”\n",
        "\n",
        "-   HC-Rand-M: If we use “\\>=” instead of “\\>” in the comparison of the current solution and the possible next solution for solving the BSD-2 problem of sizes n=4 and n=10.\n",
        "\n",
        "-   The results of HC-Rand-M show that with this modification, HC-Rand will be able to find the optimal solution in most cases.\n",
        "\n",
        "![hc search](Pictures/hc10.png \"Simulation Results\")\n",
        "\n",
        "# Hill Climbing using Ackley Function\n",
        "\n",
        "-   A Hill Climbing algorithm designed to optimize the given func (in this case the Ackley function).\n",
        "-   Ackley(x): This is the function we want to optimize.\n",
        "-   hill_climbing(): This function performs the optimization.\n",
        "    -   start: The initial point or guess where the algorithm begins.\n",
        "    -   step_size: The distance to move left or right from the current position to generate new candidate solutions. Commonly used step_size values depend on the specific problem scale and the shape of the Ackley function.\n",
        "    -   max_iterations: The maximum number of iterations to perform, ensuring the algorithm eventually stops if no local maximum is found before this limit.\n",
        "        -   Limit on the number of iterations to avoid infinite loops.\n",
        "-   At each step, the algorithm compares the current solution to its neighbors (by moving left or right by step_size) and picks the better one.\n",
        "-   The process stops when no better neighbors are found (local maximum).\n",
        "\n",
        "## Load Imports\n"
      ],
      "id": "d3530431"
    },
    {
      "cell_type": "code",
      "metadata": {},
      "source": [
        "import numpy as np\n",
        "import time\n",
        "import random\n",
        "import matplotlib.pyplot as plt\n",
        "\n",
        "np.random.seed(5042) ##for consistency"
      ],
      "id": "a0ba0800",
      "execution_count": null,
      "outputs": []
    },
    {
      "cell_type": "markdown",
      "metadata": {},
      "source": [
        "## Define the Ackley Function (1D)\n",
        "\n",
        "-   Function f(x): This is the function we want to optimize.\n",
        "-   In this case, Ackley function with provided formula.\n"
      ],
      "id": "5f21130c"
    },
    {
      "cell_type": "code",
      "metadata": {},
      "source": [
        "# Ackley function in 1D\n",
        "def ackley(x):\n",
        "    a = 20\n",
        "    b = 0.2\n",
        "    c = 2 * np.pi\n",
        "    term1 = -a * np.exp(-b * np.sqrt(np.mean(np.square(x))))\n",
        "    term2 = -np.exp(np.mean(np.cos(c * np.array(x))))\n",
        "    return term1 + term2 + a + np.exp(1)"
      ],
      "id": "348ded83",
      "execution_count": null,
      "outputs": []
    },
    {
      "cell_type": "markdown",
      "metadata": {},
      "source": [
        "## Main Loop\n",
        "\n",
        "-   This is where the hill climbing algorithm repeatedly evaluates candidate solutions, compares them with the current solution, and decides whether to update the current solution. This loop is crucial because it drives the optimization process by iterating over a fixed number of steps or until a stopping criterion is met.\n",
        "-   The current solution is set to start_x, which was initialized earlier. The Ackley value for this starting solution is calculated and stored in current_value.x_history and value_history keep track of all the solutions and function values (fitness) encountered during the optimization process.\n",
        "-   The hill climbing loop runs for a fixed number of iterations (max_iters), which controls how many optimization steps are performed. Each iteration represents one optimization step, where two new candidate solutions are generated and evaluated.\n",
        "-   The transit function generates two neighboring solutions, left_x and right_x, by subtracting and adding the step_size (0.1 by default) to the current solution (current_x). These represent potential moves to the left and right in the search space.\n",
        "-   Both neighboring solutions are evaluated using the Ackley function, resulting in their corresponding values (left_value and right_value). These values represent how \"good\" the new solutions are (lower is better in this minimization problem). Then we compare all three solutions (current, left, and right).\n",
        "    -   The np.argmin(values) function finds the index of the minimum value (best solution) from the three candidates.\n",
        "    -   The determine function then decides whether to update the current solution (current_x) to the new best solution.\n",
        "-   The current solution and its corresponding function value are appended to the history lists (x_history and value_history). These lists will be used later to plot the progress of the algorithm.\n",
        "-   Finally, we return the results.\n"
      ],
      "id": "8670d270"
    },
    {
      "cell_type": "code",
      "metadata": {},
      "source": [
        "# Main hill climbing loop for Ackley function in 1D\n",
        "def hill_climbing_ackley(start_x, max_iters=100, step_size=0.1):\n",
        "    current_x = start_x\n",
        "    current_value = evaluate(current_x)\n",
        "    x_history = [current_x]\n",
        "    value_history = [current_value]\n",
        "\n",
        "    for _ in range(max_iters):\n",
        "        left_x, right_x = transit(current_x, step_size)\n",
        "        left_value = evaluate(left_x)\n",
        "        right_value = evaluate(right_x)\n",
        "\n",
        "        values = [current_value, left_value, right_value]\n",
        "        x_candidates = [current_x, left_x, right_x]\n",
        "\n",
        "        best_index = np.argmin(values)\n",
        "        current_x, current_value = determine(values[best_index], current_value, x_candidates[best_index], current_x)\n",
        "\n",
        "        x_history.append(current_x)\n",
        "        value_history.append(current_value)\n",
        "\n",
        "    return current_x, current_value, x_history, value_history"
      ],
      "id": "e9712223",
      "execution_count": null,
      "outputs": []
    },
    {
      "cell_type": "markdown",
      "metadata": {},
      "source": [
        "## Helper Functions\n",
        "\n",
        "-   Initialize: This function initializes the hill climbing process by selecting a random starting point (start_x) within the given range \\[-10, 10\\]. This represents the initial solution that hill climbing will start with.\n"
      ],
      "id": "a44c009e"
    },
    {
      "cell_type": "code",
      "metadata": {},
      "source": [
        "# Initialization function (I) to set the starting point\n",
        "def init_hc(range_min=-10, range_max=10):\n",
        "    return random.uniform(range_min, range_max)"
      ],
      "id": "f55e39ad",
      "execution_count": null,
      "outputs": []
    },
    {
      "cell_type": "markdown",
      "metadata": {},
      "source": [
        "-   Transition: This function generates two new candidate solutions by taking small steps (of size 0.1) to the left and right of the current solution (current_x). These represent possible transitions to neighboring points in the search space.\n"
      ],
      "id": "316d59d6"
    },
    {
      "cell_type": "code",
      "metadata": {},
      "source": [
        "# Transition function (T)\n",
        "def transit(current_x, step_size=0.1):\n",
        "    return current_x - step_size, current_x + step_size"
      ],
      "id": "3ad0e46f",
      "execution_count": null,
      "outputs": []
    },
    {
      "cell_type": "markdown",
      "metadata": {},
      "source": [
        "-   Evaluation: This function evaluates the fitness of a solution (sol) using the Ackley function. The goal of the hill climbing algorithm is to minimize this value. The Ackley function is typically used for testing optimization algorithms due to its complex landscape with many local minima.\n"
      ],
      "id": "9ed25ebd"
    },
    {
      "cell_type": "code",
      "metadata": {},
      "source": [
        "# Evaluation function (E) to evaluate fitness (Ackley value in this case)\n",
        "def evaluate(sol):\n",
        "    return ackley([sol])"
      ],
      "id": "0bec6dcf",
      "execution_count": null,
      "outputs": []
    },
    {
      "cell_type": "markdown",
      "metadata": {},
      "source": [
        "-   Determination: This function compares the current solution's value (current_value) with the value of a new candidate solution (new_value). If the new solution is better (i.e., has a lower Ackley value), it becomes the new current solution. Otherwise, the current solution is retained.\n"
      ],
      "id": "3f1e33c9"
    },
    {
      "cell_type": "code",
      "metadata": {},
      "source": [
        "# Determination (D)\n",
        "# Function to decide whether to accept the new solution\n",
        "def determine(new_value, current_value, new_x, current_x):\n",
        "    return (new_x, new_value) if new_value < current_value else (current_x, current_value)"
      ],
      "id": "877e6469",
      "execution_count": null,
      "outputs": []
    },
    {
      "cell_type": "markdown",
      "metadata": {},
      "source": [
        "## Main Execution\n",
        "\n",
        "-   The process starts by initializing start_x using the Initialization function (init_hc). The main function (hill_climbing_ackley) then runs for a fixed number of iterations (100 by default) using Transition to generate candidate solutions, Evaluation to evaluate them, and Determination to decide whetherr to accept a new solution.\n"
      ],
      "id": "64d418b3"
    },
    {
      "cell_type": "code",
      "metadata": {},
      "source": [
        "# Main execution\n",
        "start_x = init_hc()\n",
        "start_time = time.time()\n",
        "optimal_x, optimal_value, x_history, value_history = hill_climbing_ackley(start_x)\n",
        "end_time = time.time()\n",
        "execution_time = end_time - start_time"
      ],
      "id": "0d5e70ed",
      "execution_count": null,
      "outputs": []
    },
    {
      "cell_type": "markdown",
      "metadata": {},
      "source": [
        "## Output\n",
        "\n",
        "-   The first part prints the optimal solution found (optimal_x), the corresponding function value (optimal_value), and the total time taken for the execution.\n",
        "-   The second part plots the Ackley function over the range \\[-10, 10\\] and overlays the hill climbing progress. The points in red represent the steps taken by the hill climbing algorithm as it navigates through the search space.\n"
      ],
      "id": "74268f28"
    },
    {
      "cell_type": "code",
      "metadata": {},
      "source": [
        "# Output (O)\n",
        "print(f\"Optimal x: {optimal_x}\")\n",
        "print(f\"Optimal value: {optimal_value}\")\n",
        "print(f\"Execution time: {execution_time:.6f} seconds\")\n",
        "\n",
        "\n",
        "# Plot the Ackley function and hill climbing progress\n",
        "x_range = np.linspace(-10, 10, 1000)\n",
        "y_values = [ackley([x]) for x in x_range]\n",
        "\n",
        "plt.plot(x_range, y_values, label=\"Ackley Function\")\n",
        "plt.plot(x_history, value_history, 'ro--', label=\"Hill Climbing Progress\")\n",
        "plt.xlabel(\"x\")\n",
        "plt.ylabel(\"f(x)\")\n",
        "plt.title(\"Hill Climbing on Ackley Function in 1D\")\n",
        "plt.legend()\n",
        "plt.grid(True)\n",
        "plt.show()"
      ],
      "id": "ce9ad60c",
      "execution_count": null,
      "outputs": []
    },
    {
      "cell_type": "markdown",
      "metadata": {},
      "source": [
        "-   An example run of this put the points Optimal x: 5.03 and Optimal Value: 12.75, are suboptimal for the Ackley function.\n",
        "-   For the Ackley function in 1D, the global minimum occurs at $x=0$, and the function value at this point is exactly $f(0)=0$.\n",
        "-   Our results are not close to the global minimum of $x=0$. Any value greater than zero indicates that the algorithm has not found the true global minimum.\n",
        "-   The blue line represents the Ackley function over a range of $x$ values from -10 to 10.The red dots connected by dashed lines represent the progress of the hill climbing algorithm as it iterates through neighboring solutions.\n",
        "-   The Ackley function is known for its many local minima, and hill climbing is a greedy optimization method that tends to get stuck in local minima because it only moves to the immediate best neighboring solution. Once it finds a local minimum, it stops, even if it hasn't found the global minimum.\n",
        "-   In this case, the result you obtained is a local minimum but not the global minimum. Since $f(0)=0$ is the global minimum, and your result is $f(5.03)= 12.75$, the algorithm likely got stuck in a local minimum during its search.\n",
        "-   Simulated Annealing is a more advanced version of hill climbing that sometimes accepts worse solutions to escape local optima. Will discuss later.\n",
        "\n",
        "# Hill Climbing with Finance\n",
        "\n",
        "-   Diversifying your stock portfolio?\n",
        "\n",
        "-   The Sharpe Ratio is formula measures the performance of an investment compared to a risk-free asset, after adjusting for risk.\n",
        "\n",
        "-   The higher the Sharpe ratio, the better the risk-adjusted performance. $S$ is the Sharpe Ratio $R_p$ is the expected return of the portfolio, $R_f$ is the risk-free rate of return, $\\sigma_p$ is the standard deviation (volatility) of the portfolio’s excess return. $S = \\frac{R_p - R_f}{\\sigma_p}$\n",
        "\n",
        "-   We store the Sharpe ratio at each successful iteration in score_history, which allows us to plot the progress of the Sharpe ratio over time.\n",
        "\n",
        "-   This performance function calculates the Sharpe ratio based on the portfolio weights, daily returns, and the covariance matrix of the assets.\n",
        "\n",
        "-   The weights are normalized (sum to 1) both when generating the initial random portfolio and for the neighboring portfolio in each iteration.\n",
        "\n",
        "-   The code prints the best portfolio weights and the best Sharpe ratio found after the hill climbing process. The plot will show the improvement in the Sharpe ratio during the iterations.\n",
        "\n",
        "## Imports\n"
      ],
      "id": "2f1b13ad"
    },
    {
      "cell_type": "code",
      "metadata": {},
      "source": [
        "## Hill Climbing Finance example\n",
        "import yfinance as yf\n",
        "import numpy as np\n",
        "import pandas as pd\n",
        "import matplotlib.pyplot as plt\n",
        "import time\n",
        "\n",
        "np.random.seed(5042)"
      ],
      "id": "fcced22c",
      "execution_count": null,
      "outputs": []
    },
    {
      "cell_type": "markdown",
      "metadata": {},
      "source": [
        "## Fetching Data\n"
      ],
      "id": "f3292614"
    },
    {
      "cell_type": "code",
      "metadata": {},
      "source": [
        "stocks = ['AAPL', 'GOOGL', 'MSFT', 'AMZN', 'TSLA', 'NFLX', 'NVDA', 'META', 'DIS', 'BA'] \n",
        "start_date = '2023-10-01'\n",
        "end_date = '2024-10-1'\n",
        "\n",
        "# Fetch historical stock data\n",
        "def fetch_data(stocks, start_date, end_date):\n",
        "    data = yf.download(stocks, start=start_date, end=end_date)['Adj Close']\n",
        "    return data"
      ],
      "id": "4d4d9628",
      "execution_count": null,
      "outputs": []
    },
    {
      "cell_type": "markdown",
      "metadata": {},
      "source": [
        "## Calculating performance via Sharpe Ratio\n"
      ],
      "id": "6314c80d"
    },
    {
      "cell_type": "code",
      "metadata": {},
      "source": [
        "# Calculate portfolio performance (returns, risk, and Sharpe ratio)\n",
        "def portfolio_performance(weights, mean_returns, cov_matrix):\n",
        "    returns = np.sum(mean_returns * weights) * 252  # Annualized returns\n",
        "    risk = np.sqrt(np.dot(weights.T, np.dot(cov_matrix, weights))) * np.sqrt(252)  # Annualized risk\n",
        "    sharpe_ratio = returns / risk  # Sharpe ratio\n",
        "    return returns, risk, sharpe_ratio"
      ],
      "id": "299fc3f6",
      "execution_count": null,
      "outputs": []
    },
    {
      "cell_type": "markdown",
      "metadata": {},
      "source": [
        "## Main Loop\n"
      ],
      "id": "df878b37"
    },
    {
      "cell_type": "code",
      "metadata": {},
      "source": [
        "# Hill Climbing algorithm for portfolio optimization\n",
        "def hill_climbing(mean_returns, cov_matrix, max_iterations=1000):\n",
        "    num_assets = len(mean_returns)\n",
        "    # Initial random portfolio\n",
        "    current_weights = np.random.random(num_assets)\n",
        "    current_weights /= np.sum(current_weights)  # Normalize to sum to 1\n",
        "    current_returns, current_risk, current_sharpe = portfolio_performance(current_weights, mean_returns, cov_matrix)\n",
        "    \n",
        "    # Track progress for visualization\n",
        "    score_history = [current_sharpe]\n",
        "    iteration = 0\n",
        "\n",
        "    # While loop for hill climbing\n",
        "    while iteration < max_iterations:\n",
        "        # Generate neighbor: Slight random change in weights\n",
        "        neighbor_weights = current_weights + np.random.normal(0, 0.01, num_assets)\n",
        "        neighbor_weights = np.clip(neighbor_weights, 0, 1)  # Ensure weights are between 0 and 1\n",
        "        neighbor_weights /= np.sum(neighbor_weights)  # Normalize weights to sum to 1\n",
        "        \n",
        "        neighbor_returns, neighbor_risk, neighbor_sharpe = portfolio_performance(neighbor_weights, mean_returns, cov_matrix)\n",
        "        \n",
        "        # If the neighbor is better, move to the neighbor solution\n",
        "        if neighbor_sharpe > current_sharpe:\n",
        "            current_weights, current_returns, current_risk, current_sharpe = neighbor_weights, neighbor_returns, neighbor_risk, neighbor_sharpe\n",
        "            score_history.append(current_sharpe)\n",
        "        \n",
        "        iteration += 1  # Increment the iteration counter\n",
        "    \n",
        "    return current_weights, current_sharpe, score_history\n",
        "stock_data = fetch_data(stocks, start_date, end_date)\n",
        "returns = stock_data.pct_change().dropna()\n",
        "mean_returns = returns.mean()\n",
        "cov_matrix = returns.cov()"
      ],
      "id": "3fd54415",
      "execution_count": null,
      "outputs": []
    },
    {
      "cell_type": "markdown",
      "metadata": {},
      "source": [
        "## Main Execution\n"
      ],
      "id": "d4f2ca3d"
    },
    {
      "cell_type": "code",
      "metadata": {},
      "source": [
        "start_time = time.time()\n",
        "\n",
        "# Run hill climbing\n",
        "best_weights, best_sharpe, score_history = hill_climbing(mean_returns, cov_matrix)\n",
        "\n",
        "end_time = time.time()\n",
        "execution_time = end_time - start_time  # Calculate elapsed time"
      ],
      "id": "1511e896",
      "execution_count": null,
      "outputs": []
    },
    {
      "cell_type": "markdown",
      "metadata": {},
      "source": [
        "## Output\n"
      ],
      "id": "34453ea9"
    },
    {
      "cell_type": "code",
      "metadata": {},
      "source": [
        "# Plot the progress of the hill climbing algorithm (Sharpe ratio improvement)\n",
        "plt.figure(figsize=(10, 6))\n",
        "plt.plot(score_history, marker='o', linestyle='-', color='b', label='Sharpe Ratio Progress')\n",
        "plt.title(\"Hill Climbing Progress for Portfolio Optimization (Sharpe Ratio)\")\n",
        "plt.xlabel(\"Iteration\")\n",
        "plt.ylabel(\"Sharpe Ratio\")\n",
        "plt.grid(True)\n",
        "plt.legend()\n",
        "plt.show()\n",
        "\n",
        "# Output the best results\n",
        "returns, risk, sharpe_ratio = portfolio_performance(best_weights, mean_returns, cov_matrix)\n",
        "print(f\"Best portfolio weights: {best_weights}\")\n",
        "print(f\"Best Sharpe ratio: {sharpe_ratio}\")\n",
        "print(f\"Best portfolio returns: {returns}, Best risk: {risk}\")\n",
        "print(f\"Hill Climbing Finance Example Execution time: {execution_time:.6f} seconds\")"
      ],
      "id": "02619b61",
      "execution_count": null,
      "outputs": []
    },
    {
      "cell_type": "markdown",
      "metadata": {},
      "source": [
        "-   The plot visualizes how the Sharpe ratio evolves over the iterations. This helps understand the performance of the hill climbing algorithm.\n",
        "-   The weights are heavily concentrated in a few stocks, particularly:\n",
        "    -   stocks = \\['AAPL', 'GOOGL', 'MSFT', 'AMZN', 'TSLA', 'NFLX', 'NVDA', 'META', 'DIS', 'BA'\\]\n",
        "    -   19.560444 % in stock 1: AAPL: Apple\n",
        "    -   13.030724 % in stock 4: AMZN: Amazon\n",
        "    -   19.665558 % in stock 6: NFLX: Netflix\n",
        "    -   30.926036 % in stock 8: META: Facebook\n",
        "    -   16.817237 % in stock 9: DIS: Walt Disney Co\n",
        "-   A Sharpe ratio of 2.800 is generally considered very good. A Sharpe ratio above 1 is usually considered acceptable, above 2 is very good, and above 3 is excellent, indicating that your portfolio offers a high return per unit of risk.\n",
        "-   Our portfolio is highly concentrated in just 5 out of the 10 assets. The algorithm has effectively zeroed out the remaining assets, which can either be a good or bad thing depending on the actual data.\n",
        "    -   Pros: Concentration might mean that the algorithm has found a combination of assets that offer the best Sharpe ratio, meaning it is maximizing returns while minimizing risk.\n",
        "    -   Cons: Concentrating in a few assets can increase the overall risk due to lack of diversification.\n",
        "\n",
        "## Items To Consider\n",
        "\n",
        "-   A Sharpe ratio of 2.800 is very good, suggesting that the portfolio has a favorable balance of return vs. risk. This ratio indicates that for each unit of risk, your portfolio earns more than two times the return.\n",
        "-   Whether this Sharpe ratio is truly impressive depends on the quality and volatility of the returns in the dataset. Financial markets rarely produce consistently high Sharpe ratios, so the high value might indicate the presence of some anomaly, or it could be due to a limited timeframe or low volatility in the assets during this period.\n",
        "-   Given the high concentration in a few stocks, there’s a risk that the algorithm might be overfitting to the specific data in the training period. This means the portfolio might perform very well during the period used for the analysis but might not generalize well to future periods.\n",
        "-   Things to Try Next:\n",
        "    -   Backtesting: Test this portfolio over a different time period or a longer time horizon to see if it maintains its high Sharpe ratio.\n",
        "    -   Rebalancing: Consider rebalancing the portfolio periodically (monthly or quarterly) to see if the high Sharpe ratio persists.\n",
        "    -   Diversification: If you are concerned about high concentration risk, you might want to introduce constraints to the hill climbing algorithm to enforce a minimum weight for diversification or limit the maximum weight of any asset.\n",
        "\n",
        "# Using AI\n",
        "\n",
        "-   Use the following prompt on a generative AI, like chatGPT, to learn more about the topics covered.\n",
        "-   Hill Climbing Basics: Explain, in your own words, what hill climbing is and how it works as an optimization algorithm. How does it differ from exhaustive search?\n",
        "-   Key Characteristics: Discuss the characteristics of hill climbing, such as its greedy approach and focus on local search. Why might these features cause hill climbing to get stuck in local optima?\n",
        "-   Hill Climbing Steps: Implement the hill climbing algorithm for the OneMax problem using the pseudocode provided in the slides. How does the algorithm ensure progress toward an optimal solution?\n",
        "-   Binary String Optimization: Modify the run_hc function to allow the comparison operator \\>= instead of \\>. Analyze how this change affects the results when applied to a deceptive problem.\n",
        "-   Challenges of Hill Climbing: Identify scenarios where hill climbing would fail to find the global optimum due to local maxima, plateaus, or ridges. Propose modifications to overcome these limitations.\n",
        "-   Compare the results of hill climbing and exhaustive search for the same problem (e.g., OneMax). Under what conditions does hill climbing achieve similar results to exhaustive search?\n",
        "-   Local vs Global Optima: Reflect on the importance of distinguishing between local and global optima in optimization problems. How can a better understanding of the solution landscape help in designing more effective algorithms?\n",
        "\n",
        "# Conlcusions\n",
        "\n",
        "-   In conclusion, the Hill Climbing algorithm provides a powerful yet straightforward approach for optimization by iteratively improving upon a solution within its local neighborhood. While its simplicity and efficiency make it suitable for various applications, it is inherently limited by its tendency to get stuck in local optima, especially in complex search landscapes with plateaus or ridges. The algorithm’s effectiveness can be enhanced with variations like stochastic hill climbing or simulated annealing, which help in navigating these challenges. In applied scenarios, such as portfolio optimization, Hill Climbing can efficiently identify solutions that maximize objectives like the Sharpe ratio, though it may lead to highly concentrated solutions that require careful consideration regarding diversification and risk management."
      ],
      "id": "d813d41d"
    }
  ],
  "metadata": {
    "kernelspec": {
      "display_name": "Python 3",
      "language": "python",
      "name": "python3"
    }
  },
  "nbformat": 4,
  "nbformat_minor": 5
}